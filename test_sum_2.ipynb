{
 "cells": [
  {
   "cell_type": "code",
   "execution_count": null,
   "id": "8bce56a0-9ee5-4c80-a346-79d060316e94",
   "metadata": {},
   "outputs": [],
   "source": [
    "def test_sum():\n",
    "    assert sum([1, 2, 3]) ==6, \"Should be 6\"\n",
    "\n",
    "def test_sum_tuple():\n",
    "    assert sm((1, 2, 3)) == 6, \"Should be 6\"\n",
    "if __name__ == \"__main__\":\n",
    "    test_sum()\n",
    "    "
   ]
  }
 ],
 "metadata": {
  "kernelspec": {
   "display_name": "Python 3 (ipykernel)",
   "language": "python",
   "name": "python3"
  },
  "language_info": {
   "codemirror_mode": {
    "name": "ipython",
    "version": 3
   },
   "file_extension": ".py",
   "mimetype": "text/x-python",
   "name": "python",
   "nbconvert_exporter": "python",
   "pygments_lexer": "ipython3",
   "version": "3.12.7"
  }
 },
 "nbformat": 4,
 "nbformat_minor": 5
}
